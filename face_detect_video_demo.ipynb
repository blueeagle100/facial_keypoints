{
 "cells": [
  {
   "cell_type": "markdown",
   "metadata": {},
   "source": [
    "## Demo face detection in opencv2"
   ]
  },
  {
   "cell_type": "markdown",
   "metadata": {},
   "source": [
    "#### For this demo we will use Haar cascaades for face detection"
   ]
  },
  {
   "cell_type": "code",
   "execution_count": 2,
   "metadata": {},
   "outputs": [],
   "source": [
    "import cv2\n",
    "import time\n",
    "\n",
    "# load in a haar cascade classifier for detecting frontal faces\n",
    "face_cascade = cv2.CascadeClassifier('detector_architectures/haarcascade_frontalface_default.xml')\n",
    "\n",
    "# run face detector\n",
    "# image_gray = cv2.cvtColor(image, cv2.COLOR_BGR2GRAY)\n",
    "# faces = face_cascade.detectMultiScale(image_gray, 11, 2)"
   ]
  },
  {
   "cell_type": "code",
   "execution_count": 13,
   "metadata": {},
   "outputs": [],
   "source": [
    "import cv2\n",
    "import time\n",
    "\n",
    "# Same command function as streaming, its just now we pass in the file path, nice!\n",
    "cap = cv2.VideoCapture('videos/vid1.mp4')\n",
    "\n",
    "# FRAMES PER SECOND FOR VIDEO\n",
    "fps = 25\n",
    "\n",
    "# Always a good idea to check if the video was acutally there\n",
    "# If you get an error at thsi step, triple check your file path!!\n",
    "if cap.isOpened()== False: \n",
    "    print(\"Error opening the video file. Please double check your file path for typos. Or move the movie file to the same location as this script/notebook\")\n",
    "    \n",
    "# get frame width and height\n",
    "frame_width = int(cap.get(3))\n",
    "frame_height = int(cap.get(4))\n",
    "\n",
    "\n",
    "# While the video is opened\n",
    "while cap.isOpened():\n",
    "    \n",
    "    # Read the video file.\n",
    "    ret, frame = cap.read()\n",
    "    \n",
    "    # If we got frames, show them.\n",
    "    if ret == True:\n",
    "        \n",
    "        # Display the frame at same frame rate of recording\n",
    "        # Watch lecture video for full explanation\n",
    "        # time.sleep(1/fps)\n",
    "        # cv2.imshow('frame',frame)\n",
    "\n",
    "        # perform histogram equalization on image\n",
    "        image = frame.copy()\n",
    "\n",
    "        # convert to YUV for equalization of color image\n",
    "        # img_yuv = cv2.cvtColor(image, cv2.COLOR_BGR2YUV)\n",
    "        \n",
    "        # equalize the Y channel only\n",
    "        # img_yuv[:, :, 0] = cv2.equalizeHist(img_yuv[:, :, 0])\n",
    "\n",
    "        # convert back to BGR\n",
    "        # image = cv2.cvtColor(img_yuv, cv2.COLOR_YUV2BGR)\n",
    "\n",
    "        # faces = face_cascade.detectMultiScale(image, 1.2, 4)\n",
    "\n",
    "        # draw boxes around faces\n",
    "        # for (x,y,w,h) in faces:\n",
    "        #     cv2.rectangle(image,(x,y),(x+w,y+h),(255,0,0),3) \n",
    "\n",
    "\n",
    "        # resize to original frame size for nice display\n",
    "        image_frame = cv2.resize(image, (frame_width, frame_height))\n",
    "\n",
    "        # display frame\n",
    "        cv2.imshow('frame', image_frame)\n",
    "        time.sleep(1/fps)\n",
    "        # break\n",
    "\n",
    "        # Press q to quit\n",
    "        if cv2.waitKey(25) & 0xFF == ord('q'):\n",
    "            break\n",
    " \n",
    "    # Or automatically break this whole loop if the video is over.\n",
    "    else:\n",
    "        break\n",
    "        \n",
    "cap.release()\n",
    "# Closes all the frames\n",
    "cv2.destroyAllWindows()"
   ]
  },
  {
   "cell_type": "code",
   "execution_count": null,
   "metadata": {},
   "outputs": [],
   "source": []
  }
 ],
 "metadata": {
  "interpreter": {
   "hash": "6c3515861ec4313dacaa20b0eec5bf326e6557b6589b7b6a4fe3c8baa566747d"
  },
  "kernelspec": {
   "display_name": "Python 3.8.12 ('base')",
   "language": "python",
   "name": "python3"
  },
  "language_info": {
   "codemirror_mode": {
    "name": "ipython",
    "version": 3
   },
   "file_extension": ".py",
   "mimetype": "text/x-python",
   "name": "python",
   "nbconvert_exporter": "python",
   "pygments_lexer": "ipython3",
   "version": "3.8.12"
  },
  "orig_nbformat": 4
 },
 "nbformat": 4,
 "nbformat_minor": 2
}
